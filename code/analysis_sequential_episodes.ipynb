{
 "cells": [
  {
   "cell_type": "code",
   "execution_count": null,
   "id": "361147b9-107c-4177-8b86-0647bbb24f6f",
   "metadata": {},
   "outputs": [],
   "source": [
    "import importlib\n",
    "import matplotlib.pyplot as plt\n",
    "import numpy as np\n",
    "from tqdm import tqdm\n",
    "\n",
    "import agents\n",
    "#import utils\n",
    "\n",
    "importlib.reload(agents);\n",
    "#importlib.reload(utils);"
   ]
  },
  {
   "cell_type": "code",
   "execution_count": null,
   "id": "96ba5d07-7133-478e-b16d-997cea4b8cab",
   "metadata": {},
   "outputs": [],
   "source": [
    "polarity = \"unknown_polarity\""
   ]
  },
  {
   "cell_type": "markdown",
   "id": "4dafb9c1-55a9-4ec4-840a-909d594fef2b",
   "metadata": {},
   "source": [
    "# Active Inference"
   ]
  },
  {
   "cell_type": "code",
   "execution_count": null,
   "id": "0850c4f9-2cc2-4edf-823a-947a31dd77d6",
   "metadata": {},
   "outputs": [],
   "source": [
    "def marginal_q_target(particles, num_targets, i=1):\n",
    "    return np.histogram(particles['q'][:,i], bins=num_targets, range=(0, num_targets), weights=particles['w'], density=True)[0]\n",
    "\n",
    "def marginal_q_f(particles, i=0, bins=10, range=(0,1) ):\n",
    "    return np.histogram(particles['q'][:,i], bins=bins, range=range, weights=particles['w'], density=True)[0]"
   ]
  },
  {
   "cell_type": "code",
   "execution_count": null,
   "id": "cc75613d-5413-4e64-932c-a2f1f2b80c80",
   "metadata": {},
   "outputs": [],
   "source": [
    "# load result file\n",
    "filename = f'iter_18_ainf_32_3200_symmetric_{polarity}_False_5.npy'\n",
    "log_ainf = np.load(filename, allow_pickle=True)[0]\n",
    "\n",
    "# preprocess data\n",
    "first_config = log_ainf['experiments'][0]['config']\n",
    "max_f = first_config['max_f']\n",
    "num_targets = first_config['num_targets']\n",
    "bins = np.linspace(0-0.0125, max_f+0.0125, int(42*max_f+1))\n",
    "print(bins)\n",
    "\n",
    "for run in tqdm(log_ainf['experiments']):\n",
    "    beliefs = run['result']['beliefs']\n",
    "    q_target = np.asarray([marginal_q_target(particles=q, num_targets=num_targets) for q in beliefs])\n",
    "    q_f0 = np.asarray([marginal_q_f(particles=q, i=0, bins=bins) for q in beliefs])\n",
    "    run['result']['q_target'] = q_target\n",
    "    run['result']['q_f0'] = q_f0"
   ]
  },
  {
   "cell_type": "markdown",
   "id": "f4288122-7bdb-4440-abc0-0e8012fa4b4d",
   "metadata": {},
   "source": [
    "## Single Run"
   ]
  },
  {
   "cell_type": "code",
   "execution_count": null,
   "id": "8ac9da8e-ca06-48fe-ac4e-1186293bf171",
   "metadata": {},
   "outputs": [],
   "source": [
    "# single run analysis\n",
    "\n",
    "start, end = [0, 100] # timesteps to plot\n",
    "\n",
    "# query condition\n",
    "conditions = log_ainf['conditions']\n",
    "experiments = log_ainf['experiments']\n",
    "target = conditions['target']\n",
    "f0 = conditions['f0']\n",
    "f1 = conditions['f1']\n",
    "indices = np.array((target == 8) * np.isclose(f0, 0.2) * np.isclose(f1, 0.2), dtype=bool)\n",
    "runs = np.asarray(experiments)[indices]\n",
    "\n",
    "run = runs[1]\n",
    "# unpack run data\n",
    "config = run['config']\n",
    "result = run['result']\n",
    "num_targets = config['num_targets']\n",
    "user_target = config['target']\n",
    "user_f0 = config['f0']\n",
    "user_f1 = config['f1']\n",
    "max_f = config['max_f']\n",
    "oo_user = result['oo_user']\n",
    "oo_system = result['oo_system']\n",
    "q_target = result['q_target']\n",
    "q_f0 = result['q_f0']\n",
    "\n",
    "num_plots = 5\n",
    "fig, axes = plt.subplots(num_plots, 1, figsize=(12, num_plots*3))\n",
    "utils.plot_interaction_sequence(oo_user[start:end], oo_system[start:end], user_target, ax=axes[0])\n",
    "utils.plot_target_belief_distribution_sequence(q_target[start:end], user_target, cscale='log', ax=axes[1])\n",
    "utils.plot_target_belief_sequence(q_target[start:end], user_target, ax=axes[2])\n",
    "utils.plot_f_belief_distribution_sequence(q_f0[start:end], user_f0, bins, ax=axes[3])\n",
    "utils.plot_f_belief_sequence(q_f0[start:end], user_f0, bins, ax=axes[4])\n",
    "\n",
    "axes[0].get_xaxis().set_visible(False)\n",
    "axes[1].get_xaxis().set_visible(False)\n",
    "axes[2].get_xaxis().set_visible(False)\n",
    "axes[3].get_xaxis().set_visible(False)\n",
    "fig.tight_layout()"
   ]
  },
  {
   "cell_type": "markdown",
   "id": "07c2aafc-1480-4076-9bfd-2221ecb929f7",
   "metadata": {},
   "source": [
    "## Aggregate Statistics with Successive Episodes"
   ]
  },
  {
   "cell_type": "code",
   "execution_count": null,
   "id": "0cf27255-1954-4aad-b6f7-25041ae0e8d9",
   "metadata": {},
   "outputs": [],
   "source": [
    "# decision rule evaluation - AInf\n",
    "conditions = log_ainf['conditions']\n",
    "experiments = log_ainf['experiments']\n",
    "target = conditions['target']\n",
    "f0 = conditions['f0']\n",
    "f1 = conditions['f1']\n",
    "\n",
    "f_i = 0.2\n",
    "\n",
    "# query condition\n",
    "indices = np.array(np.isclose(f0, f_i), dtype=bool) # all targets, all repetitions\n",
    "runs = np.asarray(experiments)[indices]\n",
    "max_num_steps = runs[0]['config']['max_num_steps']\n",
    "\n",
    "q_thresholds = np.linspace(0, 1, 11) # iterate over thresholds\n",
    "\n",
    "ainf_mean_num_steps = []\n",
    "ainf_mean_accuracy = []\n",
    "for episode in range(5):\n",
    "    ainf_mean_num_steps.append([])\n",
    "    ainf_mean_accuracy.append([])\n",
    "    for q_threshold in q_thresholds:\n",
    "        num_steps = []\n",
    "        accuracy = []\n",
    "        for run in runs:\n",
    "            q = run['result']['q_target'][episode*(max_num_steps+1):(episode+1)*(max_num_steps+1)]\n",
    "            max_q = q.max(axis=1)\n",
    "            _num_steps = np.argmax(max_q >= q_threshold) # returns 0 if all elements False\n",
    "            _num_steps = max_num_steps if max_q[_num_steps] < q_threshold else _num_steps\n",
    "            num_steps.append(_num_steps+1) # log run result\n",
    "            accuracy.append(np.argmax(q[_num_steps]) == run['config']['target'])\n",
    "        \n",
    "        ainf_mean_num_steps[episode].append(np.mean(num_steps))\n",
    "        ainf_mean_accuracy[episode].append(np.mean(accuracy))"
   ]
  },
  {
   "cell_type": "code",
   "execution_count": null,
   "id": "0149772a-c43b-4d0a-a5b4-fcc4906157a8",
   "metadata": {},
   "outputs": [],
   "source": [
    "fig, ax = plt.subplots()\n",
    "\n",
    "for episode in range(5):\n",
    "    ax.plot(ainf_mean_num_steps[episode], ainf_mean_accuracy[episode], 'x-', label=f\"episode {episode}\", linewidth=1)\n",
    "    ax.set_xlim([0, 50])\n",
    "    ax.set_xlabel('interface steps before decision taken')\n",
    "    ax.set_ylabel('decision accuracy')\n",
    "    \n",
    "ax.legend()"
   ]
  },
  {
   "cell_type": "code",
   "execution_count": null,
   "id": "c2260f39-f162-4e0f-b6c3-0cfc9c9896cb",
   "metadata": {},
   "outputs": [],
   "source": [
    "## Preprocessing"
   ]
  },
  {
   "cell_type": "code",
   "execution_count": null,
   "id": "1d39920d-fa78-489b-8b04-60beaf486394",
   "metadata": {},
   "outputs": [],
   "source": [
    "# preprocessing\n",
    "conditions = log_ainf['conditions']\n",
    "experiments = log_ainf['experiments']\n",
    "target = conditions['target']\n",
    "f0 = conditions['f0']\n",
    "f1 = conditions['f1']\n",
    "\n",
    "bins = np.linspace(0-0.0125, max_f+0.0125, int(42*max_f+1))\n",
    "print(bins)\n",
    "\n",
    "stats_by_error = {}\n",
    "print('unique f0', np.unique(f0))\n",
    "for f_i in np.unique(f0):\n",
    "    # query condition\n",
    "    indices = np.array(np.isclose(f0, f_i), dtype=bool) # all targets, all repetitions\n",
    "    runs = np.asarray(experiments)[indices]\n",
    "    \n",
    "    # get all marginal belief sequences of input errors across all runs\n",
    "    target_belief_sequences = []\n",
    "    f_belief_sequences = []\n",
    "    for run in tqdm(runs):\n",
    "        user_target = run['config']['target']\n",
    "        user_f = run['config']['f0']\n",
    "        num_targets = run['config']['num_targets']\n",
    "        beliefs = run['result']['beliefs']\n",
    "        # target\n",
    "        target_belief_sequences.append(run['result']['q_target'][:,user_target])\n",
    "        # f\n",
    "        i_user_f = np.digitize(user_f, bins[1:])\n",
    "        f_belief_sequences.append(run['result']['q_f0'][:,i_user_f])\n",
    "    \n",
    "    target_quantiles = np.quantile(target_belief_sequences, [0.5, 0.25, 0.75], axis=0)\n",
    "    f_quantiles = np.quantile(f_belief_sequences, [0.5, 0.25, 0.75], axis=0)\n",
    "    stats_by_error[f'{f_i:.2f}'] = {\n",
    "        'q_target': target_quantiles,\n",
    "        'q_f': f_quantiles\n",
    "    }"
   ]
  },
  {
   "cell_type": "code",
   "execution_count": null,
   "id": "1519b757-f966-44d8-a7d6-ab8c2be652aa",
   "metadata": {},
   "outputs": [],
   "source": [
    "## How quickly does AInf infer error?"
   ]
  },
  {
   "cell_type": "code",
   "execution_count": null,
   "id": "9dad5eac-4430-4f47-b474-08db7d614316",
   "metadata": {},
   "outputs": [],
   "source": [
    "# RQ 1how quickly does KL-control learn about input error?\n",
    "\n",
    "fig, ax = plt.subplots(figsize=(12, 6))\n",
    "\n",
    "num_steps = 101\n",
    "num_steps_display = 505\n",
    "errors = ['0.10', '0.20', '0.30', '0.40']\n",
    "errors = ['0.10', '0.20', '0.30']\n",
    "#errors = ['0.20']\n",
    "\n",
    "for f_i, stats in zip(errors, [stats_by_error[f] for f in errors]):\n",
    "    q_target = stats['q_target']\n",
    "    q_f = stats['q_f']\n",
    "    num_episodes = int(q_f.shape[1] / num_steps)\n",
    "    ax.plot(q_f[0,:], label=f'$f_0=f_1=${f_i}')\n",
    "    ax.fill_between(np.arange(q_f.shape[1]), q_f[1,:], q_f[2,:], alpha=0.2)\n",
    "    \n",
    "ylim = ax.get_ylim()\n",
    "for i in range(1, num_episodes):\n",
    "    # indicate episode limits with gray vertical bars\n",
    "    ax.plot([i*num_steps]*2, ylim, 'gray', linewidth=1, alpha=0.25, label=\"episode end\" if i==0 else None)\n",
    "    \n",
    "ax.set_xlabel('interface timestep')\n",
    "ax.set_ylabel('probability density')\n",
    "ax.set_ylim(ylim)\n",
    "ax.set_xlim([0, num_steps_display])\n",
    "ax.legend()"
   ]
  },
  {
   "cell_type": "code",
   "execution_count": null,
   "id": "9b458832-915e-4faa-b4ac-b72fc24bc7d3",
   "metadata": {},
   "outputs": [],
   "source": [
    "## How Quickly does Ainf learn about user target"
   ]
  },
  {
   "cell_type": "code",
   "execution_count": null,
   "id": "9307fca0-e5d1-46ff-841c-0848357c71fb",
   "metadata": {},
   "outputs": [],
   "source": [
    "\n",
    "fig, ax = plt.subplots(figsize=(12, 6))\n",
    "\n",
    "num_steps = 101\n",
    "errors = ['0.10','0.20','0.30']\n",
    "#errors = ['0.20']\n",
    "num_steps_display = 100\n",
    "\n",
    "linestyle = ['-', '-.', '--', None,':']\n",
    "\n",
    "for f_i, stats in zip(errors, [stats_by_error[f] for f in errors]):\n",
    "\n",
    "    q_target = stats['q_target']\n",
    "    num_episodes = int(q_f.shape[1] / num_steps)\n",
    "    for i in [0]: #[0, 1, 2, 4]:\n",
    "        start, end = i*num_steps, i*num_steps + num_steps_display\n",
    "        if i==0:\n",
    "            p = ax.plot(q_target[0,start:end], linestyle=linestyle[i], label=f'$f_0=f_1=${f_i}, episode {i+1}')\n",
    "            color = p[0].get_color()\n",
    "        else:\n",
    "            label = f'episode {i+1}' if (f_i==errors[-1]) else None\n",
    "            ax.plot(q_target[0,start:end], linestyle=linestyle[i], color=color, label=label)\n",
    "        \n",
    "        ax.fill_between(np.arange(num_steps_display), q_target[1,start:end], q_target[2,start:end], alpha=0.2)\n",
    "    \n",
    "ax.set_xlabel('interface timestep')\n",
    "ax.set_ylabel('probability')\n",
    "ylim = ax.get_ylim()\n",
    "ax.set_ylim([0, ylim[1]])\n",
    "ax.legend()"
   ]
  },
  {
   "cell_type": "code",
   "execution_count": null,
   "id": "5ec667dc-0bdf-4425-b214-388408a24969",
   "metadata": {},
   "outputs": [],
   "source": [
    "## Horstein"
   ]
  },
  {
   "cell_type": "code",
   "execution_count": null,
   "id": "d81343f2-670f-464d-b0cb-5e1da3551439",
   "metadata": {},
   "outputs": [],
   "source": [
    "# load result file\n",
    "filename = f'horstein_32_symmetric_{polarity}.npy'\n",
    "log_hornstein = np.load(filename, allow_pickle=True)[0]"
   ]
  },
  {
   "cell_type": "code",
   "execution_count": null,
   "id": "09b028ab-67ed-4079-89e5-a9caf4d19a3a",
   "metadata": {},
   "outputs": [],
   "source": [
    "## SIngle Run"
   ]
  },
  {
   "cell_type": "code",
   "execution_count": null,
   "id": "e7117065-a113-40d7-bc5e-2323c2cfd8e3",
   "metadata": {},
   "outputs": [],
   "source": [
    "# query\n",
    "conditions = log_hornstein['conditions']\n",
    "experiments = log_hornstein['experiments']\n",
    "target = conditions['target']\n",
    "f0 = conditions['f0']\n",
    "f1 = conditions['f1']\n",
    "f0_assumed = conditions['f0_assumed']\n",
    "f1_assumed = conditions['f1_assumed']\n",
    "\n",
    "indices = np.array((target == 8) * np.isclose(f0, 0.2) * np.isclose(f0_assumed, 0.1), dtype=bool)\n",
    "\n",
    "runs = np.asarray(experiments)[indices]\n",
    "run = runs[0]"
   ]
  },
  {
   "cell_type": "code",
   "execution_count": null,
   "id": "d17de81a-a286-49e3-8b80-409ddb22195c",
   "metadata": {},
   "outputs": [],
   "source": [
    "# single run visualisation\n",
    "\n",
    "config = run['config']\n",
    "oo_user = run['result']['oo_user']\n",
    "oo_system = run['result']['oo_system']\n",
    "beliefs = run['result']['beliefs']\n",
    "\n",
    "fig, axes = plt.subplots(3, 1, figsize=(12, 3*3))\n",
    "utils.plot_interaction_sequence(oo_user, oo_system, config['target'], ax=axes[0])\n",
    "utils.plot_target_belief_distribution_sequence(beliefs, config['target'], cscale='log', ax=axes[1])\n",
    "utils.plot_target_belief_sequence(beliefs, config['target'], ax=axes[2])\n",
    "axes[1].set_title(f\"Agent belief after {config['max_num_steps']} interaction steps.\")\n",
    "axes[0].get_xaxis().set_visible(False)\n",
    "axes[1].get_xaxis().set_visible(False)\n",
    "fig.tight_layout()"
   ]
  },
  {
   "cell_type": "code",
   "execution_count": null,
   "id": "11d917fe-7ba7-442f-beda-2021adda4f83",
   "metadata": {},
   "outputs": [],
   "source": [
    "## Aggregate Statistics with Successive Episodes"
   ]
  },
  {
   "cell_type": "code",
   "execution_count": null,
   "id": "1209980e-79ee-45cc-92bb-395b97427f50",
   "metadata": {},
   "outputs": [],
   "source": [
    "np.unique(f0)"
   ]
  },
  {
   "cell_type": "code",
   "execution_count": null,
   "id": "655350ec-bc96-4d27-aeb3-57914d4ce84d",
   "metadata": {},
   "outputs": [],
   "source": [
    "np.unique(f0_assumed)"
   ]
  },
  {
   "cell_type": "code",
   "execution_count": null,
   "id": "b756370f-9db6-4f41-873f-9c17b8e424f8",
   "metadata": {},
   "outputs": [],
   "source": [
    "# preprocessing\n",
    "conditions = log_hornstein['conditions']\n",
    "experiments = log_hornstein['experiments']\n",
    "target = conditions['target']\n",
    "f0 = conditions['f0']\n",
    "f1 = conditions['f1']\n",
    "f0_assumed = conditions['f0_assumed']\n",
    "f1_assumed = conditions['f1_assumed']\n",
    "\n",
    "_f0 = 0.2\n",
    "#headrooms = [-0.15, -0.1, -0.05, 0.0, 0.05, 0.1, 0.15]\n",
    "#headrooms = [-0.2, -0.1, 0.0, 0.1, 0.2]\n",
    "headrooms = [0.4, 0.5, 0.6, 0.7, 0.8]\n",
    "\n",
    "stats_by_headroom = {}\n",
    "for headroom in headrooms:\n",
    "    # query condition\n",
    "    indices = np.array(np.isclose(f0, _f0) * np.isclose(f1, _f0) * np.isclose(f0_assumed, headroom+_f0) * np.isclose(f1_assumed, headroom+_f0), dtype=bool) # all targets, all repetitions\n",
    "    runs = np.asarray(experiments)[indices]\n",
    "    \n",
    "    # get all marginal belief sequences of user target across all runs\n",
    "    target_belief_sequences = []\n",
    "    for run in tqdm(runs):\n",
    "        user_target = run['config']['target']\n",
    "        user_f = run['config']['f0']\n",
    "        num_targets = run['config']['num_targets']\n",
    "        beliefs = run['result']['beliefs']\n",
    "        target_belief_sequences.append(np.asarray(beliefs)[:,user_target])\n",
    "    \n",
    "    target_quantiles = np.quantile(target_belief_sequences, [0.5, 0.25, 0.75], axis=0)\n",
    "    stats_by_headroom[f'{headroom:.2f}'] = {\n",
    "        'q_target': target_quantiles\n",
    "    }"
   ]
  },
  {
   "cell_type": "code",
   "execution_count": null,
   "id": "f305220a-7b5d-47e9-91e0-0c546e7c2320",
   "metadata": {},
   "outputs": [],
   "source": [
    "## How quickly does Horstein learn about user targt?"
   ]
  },
  {
   "cell_type": "code",
   "execution_count": null,
   "id": "fcd8136b-b8bc-4b3f-9f90-5cedea3e6f25",
   "metadata": {},
   "outputs": [],
   "source": [
    "fig, ax = plt.subplots()\n",
    "\n",
    "num_steps = 101\n",
    "num_steps_display = 50\n",
    "linestyle = ['sold','dashed','dashdot','dotted']\n",
    "\n",
    "for headroom, stats in zip(headrooms, [stats_by_headroom[f'{h:.2f}'] for h in headrooms]):\n",
    "    q_target = stats['q_target']\n",
    "    p = ax.plot(q_target[0,:num_steps_display], label=f\"$f'-f=${headroom}; $f'=${_f0+headroom:.2f}\", zorder=20)\n",
    "    \n",
    "    #ax.fill_between(np.arange(num_steps_display), q_target[1], q_target[2], alpha=0.2)\n",
    "\n",
    "#-------------------------------\n",
    "# compare with KL-control\n",
    "#-------------------------------\n",
    "errors = []\n",
    "\n",
    "linestyle = ['-','--','-.',':']\n",
    "linestyle = ['solid','dashed','dashdot','dotted']\n",
    "episodes = [0, 1, 2, 4]\n",
    "\n",
    "f_i = f'{_f0:.2f}'\n",
    "stats = stats_by_error[f_i]\n",
    "q_target = stats['q_target']\n",
    "for i in range(4):\n",
    "    episode = episodes[i]\n",
    "    start, end = episode*num_steps, episode*num_steps + num_steps_display\n",
    "    ax.plot(q_target[0,start:end], linestyle=linestyle[i], color='black', label=f'AInf after {episode*max_num_steps} steps')\n",
    "\n",
    "ax.set_xlabel('interface timestep')\n",
    "ax.set_ylabel('target probability')\n",
    "ylim = ax.get_ylim()\n",
    "ax.set_ylim([0, ylim[1]])\n",
    "#ax.legend(loc=4).set_zorder(30)"
   ]
  },
  {
   "cell_type": "code",
   "execution_count": null,
   "id": "4f1766c8-a21e-4926-b195-b1081d707798",
   "metadata": {},
   "outputs": [],
   "source": [
    "## Decision Rule evaluation - Horstein"
   ]
  },
  {
   "cell_type": "code",
   "execution_count": null,
   "id": "9e9f2cb5-50ea-4280-95be-94ad7cde0bca",
   "metadata": {},
   "outputs": [],
   "source": [
    "# decision rule evaluation - Horstein\n",
    "\n",
    "# measure number of steps and accuracy for a single run\n",
    "f0_ = 0.2\n",
    "headrooms = [-0.2, -0.1, 0.0, 0.1, 0.2] # iterate over headrooms\n",
    "headrooms = [0.4, 0.5, 0.6, 0.7, 0.8]\n",
    "q_thresholds = np.linspace(0, 1, 11) # iterate over thresholds\n",
    "\n",
    "horstein_mean_num_steps = []\n",
    "horstein_mean_accuracy = []\n",
    "\n",
    "for headroom in tqdm(headrooms):\n",
    "    # query condition\n",
    "    indices = np.array(np.isclose(f0, _f0) * np.isclose(f1, _f0) * np.isclose(f0_assumed, headroom+_f0) * np.isclose(f1_assumed, headroom+_f0), dtype=bool) # all targets, all repetitions\n",
    "    runs = np.asarray(experiments)[indices]\n",
    "    max_num_steps = runs[0]['config']['max_num_steps']\n",
    "    horstein_mean_num_steps.append([])\n",
    "    horstein_mean_accuracy.append([])\n",
    "    for q_threshold in q_thresholds:\n",
    "        num_steps = []\n",
    "        accuracy = []\n",
    "        for run in runs:\n",
    "            q = np.asarray(run['result']['beliefs']) #timeseries of Q(target)\n",
    "            max_q = q.max(axis=1)\n",
    "            _num_steps = np.argmax(max_q >= q_threshold) # returns 0 if all elements False\n",
    "            _num_steps = max_num_steps if max_q[_num_steps] < q_threshold else _num_steps\n",
    "            num_steps.append(_num_steps) # log run result\n",
    "            accuracy.append(np.argmax(q[_num_steps]) == run['config']['target'])\n",
    "        \n",
    "        horstein_mean_num_steps[-1].append(np.mean(num_steps))\n",
    "        horstein_mean_accuracy[-1].append(np.mean(accuracy))"
   ]
  },
  {
   "cell_type": "code",
   "execution_count": null,
   "id": "dbefdf82-faa7-4234-b92b-2b4be3b98972",
   "metadata": {},
   "outputs": [],
   "source": [
    "fig, ax = plt.subplots()\n",
    "\n",
    "for i in range(len(horstein_mean_num_steps)):\n",
    "    ax.plot(horstein_mean_num_steps[i], horstein_mean_accuracy[i], 'x-', label=f\"Headroom$f'-f=${headrooms[i]}\", alpha=0.75, zorder=20)\n",
    "\n",
    "#-------------------------------\n",
    "# compare with KL-control\n",
    "#-------------------------------\n",
    "linestyle = ['-','--','-.',':']\n",
    "linestyle = ['solid','dashed','dashdot','dotted']\n",
    "episodes = [0, 1, 2, 4]\n",
    "for i in range(4):\n",
    "    episode = episodes[i]\n",
    "    ax.plot(ainf_mean_num_steps[episode][:-1], ainf_mean_accuracy[episode][:-1], 'x', linestyle=linestyle[i], color='black', label=f'AInf after {episode*max_num_steps} steps')\n",
    "\n",
    "ax.set_xlim([10, 50])\n",
    "ax.set_ylim([0.5,1.])\n",
    "ax.set_xlabel('interface steps before decision taken')\n",
    "ax.set_ylabel('decision accuracy') "
   ]
  },
  {
   "cell_type": "markdown",
   "id": "ca1f0c56-a013-41b1-a642-474dbecc72fb",
   "metadata": {},
   "source": [
    "# FIN"
   ]
  }
 ],
 "metadata": {
  "kernelspec": {
   "display_name": "Python [conda env:interactive_inference]",
   "language": "python",
   "name": "conda-env-interactive_inference-py"
  },
  "language_info": {
   "codemirror_mode": {
    "name": "ipython",
    "version": 3
   },
   "file_extension": ".py",
   "mimetype": "text/x-python",
   "name": "python",
   "nbconvert_exporter": "python",
   "pygments_lexer": "ipython3",
   "version": "3.11.0"
  }
 },
 "nbformat": 4,
 "nbformat_minor": 5
}
